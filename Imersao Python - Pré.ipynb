{
 "cells": [
  {
   "cell_type": "markdown",
   "metadata": {},
   "source": [
    "# Imersao Python\n",
    "\n",
    "## Uma breve introdução ao Python.\n",
    "\n",
    "Vamos conhecer todas as estruturas básicas da linguagem. Tudo o que é necessário para escrever programas minimamente úteis.\n",
    "\n",
    "## Tipos de dados\n",
    "\n",
    "Vamos dar \"olá\" para o mundo..."
   ]
  },
  {
   "cell_type": "code",
   "execution_count": 3,
   "metadata": {},
   "outputs": [
    {
     "name": "stdout",
     "output_type": "stream",
     "text": [
      "Que animal essa semana da Estatística!\n"
     ]
    }
   ],
   "source": [
    "print(\"Que animal essa semana da Estatística!\")"
   ]
  },
  {
   "cell_type": "code",
   "execution_count": 4,
   "metadata": {},
   "outputs": [
    {
     "name": "stdout",
     "output_type": "stream",
     "text": [
      "Olá Mundo!\n"
     ]
    }
   ],
   "source": [
    "print(\"Olá Mundo!\")"
   ]
  },
  {
   "cell_type": "markdown",
   "metadata": {},
   "source": [
    "### Como pedir informação para o usuário??"
   ]
  },
  {
   "cell_type": "code",
   "execution_count": 10,
   "metadata": {},
   "outputs": [
    {
     "name": "stdout",
     "output_type": "stream",
     "text": [
      "Qual o seu nome? Ana\n"
     ]
    }
   ],
   "source": [
    "nome = input(\"Qual o seu nome? \") # Isso recebe uma informação do usuário"
   ]
  },
  {
   "cell_type": "code",
   "execution_count": 12,
   "metadata": {},
   "outputs": [
    {
     "name": "stdout",
     "output_type": "stream",
     "text": [
      "Ana\n"
     ]
    }
   ],
   "source": [
    "print(nome)"
   ]
  },
  {
   "cell_type": "code",
   "execution_count": 11,
   "metadata": {},
   "outputs": [
    {
     "name": "stdout",
     "output_type": "stream",
     "text": [
      "Que legal! Seja bem vindo, Ana\n"
     ]
    }
   ],
   "source": [
    "print(\"Que legal! Seja bem vindo,\", nome)"
   ]
  },
  {
   "cell_type": "code",
   "execution_count": 13,
   "metadata": {},
   "outputs": [
    {
     "data": {
      "text/plain": [
       "str"
      ]
     },
     "execution_count": 13,
     "metadata": {},
     "output_type": "execute_result"
    }
   ],
   "source": [
    "type(nome)"
   ]
  },
  {
   "cell_type": "markdown",
   "metadata": {},
   "source": [
    "### Toda informação que é requisitada pelo usuário é do tipo STRING\n",
    "\n",
    "Ou seja, mesmo que o usuário coloque um número, o mesmo é tratado como texto. Assim que desejemos obter a idade do indivíduo, precisamos converter para INTEIRO."
   ]
  },
  {
   "cell_type": "code",
   "execution_count": 16,
   "metadata": {},
   "outputs": [
    {
     "name": "stdout",
     "output_type": "stream",
     "text": [
      "Entre com a sua idade: 28\n"
     ]
    }
   ],
   "source": [
    "idade = input(\"Entre com a sua idade: \")"
   ]
  },
  {
   "cell_type": "code",
   "execution_count": 23,
   "metadata": {
    "scrolled": false
   },
   "outputs": [
    {
     "name": "stdout",
     "output_type": "stream",
     "text": [
      "28\n"
     ]
    },
    {
     "data": {
      "text/plain": [
       "'28'"
      ]
     },
     "execution_count": 23,
     "metadata": {},
     "output_type": "execute_result"
    }
   ],
   "source": [
    "print(idade)\n",
    "idade"
   ]
  },
  {
   "cell_type": "code",
   "execution_count": 17,
   "metadata": {},
   "outputs": [
    {
     "data": {
      "text/plain": [
       "str"
      ]
     },
     "execution_count": 17,
     "metadata": {},
     "output_type": "execute_result"
    }
   ],
   "source": [
    "type(idade)"
   ]
  },
  {
   "cell_type": "code",
   "execution_count": 19,
   "metadata": {},
   "outputs": [],
   "source": [
    "idade_int = int(idade)"
   ]
  },
  {
   "cell_type": "code",
   "execution_count": 20,
   "metadata": {},
   "outputs": [
    {
     "data": {
      "text/plain": [
       "int"
      ]
     },
     "execution_count": 20,
     "metadata": {},
     "output_type": "execute_result"
    }
   ],
   "source": [
    "type(idade_int)"
   ]
  },
  {
   "cell_type": "code",
   "execution_count": 21,
   "metadata": {},
   "outputs": [
    {
     "data": {
      "text/plain": [
       "str"
      ]
     },
     "execution_count": 21,
     "metadata": {},
     "output_type": "execute_result"
    }
   ],
   "source": [
    "type(idade)"
   ]
  },
  {
   "cell_type": "code",
   "execution_count": 4,
   "metadata": {},
   "outputs": [
    {
     "name": "stdout",
     "output_type": "stream",
     "text": [
      "Qual sua idade? 27\n"
     ]
    }
   ],
   "source": [
    "idade = input(\"Qual sua idade? \")\n",
    "idade = int(idade)"
   ]
  },
  {
   "cell_type": "code",
   "execution_count": 5,
   "metadata": {},
   "outputs": [
    {
     "data": {
      "text/plain": [
       "int"
      ]
     },
     "execution_count": 5,
     "metadata": {},
     "output_type": "execute_result"
    }
   ],
   "source": [
    "type(idade)"
   ]
  },
  {
   "cell_type": "markdown",
   "metadata": {},
   "source": [
    "## Abrindo o capô das Strings\n",
    "\n",
    "Strings são um conjunto de caracteres, sendo possível navegar por elas, fatiar, remover caracteres, etc...\n",
    "\n",
    "Strings possuem métodos e atributos, mas o que e isso? Uma pessoa, possui características e ações possíveis de serem executadas.\n",
    "\n",
    "Exemplo de atributos (características):\n",
    "\n",
    "- cor do cabelo\n",
    "- cor dos olhos\n",
    "- idade\n",
    "- sexo\n",
    "\n",
    "Exemplo de métodos (ações):\n",
    "\n",
    "- Viajar\n",
    "- Estudar\n",
    "- Pintar o cabelo\n",
    "\n",
    "Vamos conferrir isso nas strings?"
   ]
  },
  {
   "cell_type": "code",
   "execution_count": 33,
   "metadata": {
    "scrolled": true
   },
   "outputs": [
    {
     "data": {
      "text/plain": [
       "'A'"
      ]
     },
     "execution_count": 33,
     "metadata": {},
     "output_type": "execute_result"
    }
   ],
   "source": [
    "nome[0] # Posição de número 0 é igual a 1a posição/charactere"
   ]
  },
  {
   "cell_type": "code",
   "execution_count": 34,
   "metadata": {},
   "outputs": [
    {
     "data": {
      "text/plain": [
       "'n'"
      ]
     },
     "execution_count": 34,
     "metadata": {},
     "output_type": "execute_result"
    }
   ],
   "source": [
    "nome[1] # Segunda posição"
   ]
  },
  {
   "cell_type": "code",
   "execution_count": 35,
   "metadata": {},
   "outputs": [
    {
     "data": {
      "text/plain": [
       "'a'"
      ]
     },
     "execution_count": 35,
     "metadata": {},
     "output_type": "execute_result"
    }
   ],
   "source": [
    "nome[2] # Terceira posição"
   ]
  },
  {
   "cell_type": "code",
   "execution_count": 29,
   "metadata": {},
   "outputs": [
    {
     "ename": "IndexError",
     "evalue": "string index out of range",
     "output_type": "error",
     "traceback": [
      "\u001b[0;31m---------------------------------------------------------------------------\u001b[0m",
      "\u001b[0;31mIndexError\u001b[0m                                Traceback (most recent call last)",
      "\u001b[0;32m<ipython-input-29-331c2004ca96>\u001b[0m in \u001b[0;36m<module>\u001b[0;34m\u001b[0m\n\u001b[0;32m----> 1\u001b[0;31m \u001b[0mnome\u001b[0m\u001b[0;34m[\u001b[0m\u001b[0;36m3\u001b[0m\u001b[0;34m]\u001b[0m\u001b[0;34m\u001b[0m\u001b[0;34m\u001b[0m\u001b[0m\n\u001b[0m",
      "\u001b[0;31mIndexError\u001b[0m: string index out of range"
     ]
    }
   ],
   "source": [
    "nome[3]"
   ]
  },
  {
   "cell_type": "code",
   "execution_count": 44,
   "metadata": {},
   "outputs": [
    {
     "name": "stdout",
     "output_type": "stream",
     "text": [
      "Entre com o seu nome: Teodoro\n"
     ]
    }
   ],
   "source": [
    "nome = input(\"Entre com o seu nome: \") # Recebe o nome do usuário"
   ]
  },
  {
   "cell_type": "code",
   "execution_count": 45,
   "metadata": {},
   "outputs": [],
   "source": [
    "tamanho = len(nome) # Calcula o tamanho do nome"
   ]
  },
  {
   "cell_type": "code",
   "execution_count": 46,
   "metadata": {},
   "outputs": [
    {
     "data": {
      "text/plain": [
       "'o'"
      ]
     },
     "execution_count": 46,
     "metadata": {},
     "output_type": "execute_result"
    }
   ],
   "source": [
    "nome[tamanho-1] # Exibe o último caractere"
   ]
  },
  {
   "cell_type": "code",
   "execution_count": 47,
   "metadata": {},
   "outputs": [
    {
     "data": {
      "text/plain": [
       "'o'"
      ]
     },
     "execution_count": 47,
     "metadata": {},
     "output_type": "execute_result"
    }
   ],
   "source": [
    "nome[-1] # Ultimo caractere"
   ]
  },
  {
   "cell_type": "code",
   "execution_count": 48,
   "metadata": {},
   "outputs": [
    {
     "data": {
      "text/plain": [
       "'r'"
      ]
     },
     "execution_count": 48,
     "metadata": {},
     "output_type": "execute_result"
    }
   ],
   "source": [
    "nome[-2]"
   ]
  },
  {
   "cell_type": "code",
   "execution_count": 62,
   "metadata": {},
   "outputs": [
    {
     "data": {
      "text/plain": [
       "'Teo'"
      ]
     },
     "execution_count": 62,
     "metadata": {},
     "output_type": "execute_result"
    }
   ],
   "source": [
    "nome[0:3] # Intervalo fechado à esquerda e aberto à direita [,)\n",
    "# 3 - 0 = 3 -> final - inicio = quantidade\n",
    "\n",
    "nome[0:3] # nome[ start : stop ]\n",
    "# stop - start = range"
   ]
  },
  {
   "cell_type": "code",
   "execution_count": 65,
   "metadata": {},
   "outputs": [
    {
     "data": {
      "text/plain": [
       "'Teo'"
      ]
     },
     "execution_count": 65,
     "metadata": {},
     "output_type": "execute_result"
    }
   ],
   "source": [
    "nome[:3] # Isso é a mesma coisa que nome[0:3]"
   ]
  },
  {
   "cell_type": "code",
   "execution_count": 66,
   "metadata": {},
   "outputs": [
    {
     "data": {
      "text/plain": [
       "'eodoro'"
      ]
     },
     "execution_count": 66,
     "metadata": {},
     "output_type": "execute_result"
    }
   ],
   "source": [
    "nome[1:] # isso é a mesma coisa que nome[1:len(nome)]"
   ]
  },
  {
   "cell_type": "code",
   "execution_count": 69,
   "metadata": {},
   "outputs": [
    {
     "data": {
      "text/plain": [
       "'Teodoro'"
      ]
     },
     "execution_count": 69,
     "metadata": {},
     "output_type": "execute_result"
    }
   ],
   "source": [
    "nome[:]"
   ]
  },
  {
   "cell_type": "code",
   "execution_count": 71,
   "metadata": {},
   "outputs": [
    {
     "data": {
      "text/plain": [
       "'Teodor'"
      ]
     },
     "execution_count": 71,
     "metadata": {},
     "output_type": "execute_result"
    }
   ],
   "source": [
    "nome[:-1]"
   ]
  },
  {
   "cell_type": "code",
   "execution_count": 72,
   "metadata": {},
   "outputs": [
    {
     "data": {
      "text/plain": [
       "'Teo'"
      ]
     },
     "execution_count": 72,
     "metadata": {},
     "output_type": "execute_result"
    }
   ],
   "source": [
    "start = 0\n",
    "stop = 3\n",
    "nome[start : stop]"
   ]
  },
  {
   "cell_type": "code",
   "execution_count": 77,
   "metadata": {},
   "outputs": [
    {
     "data": {
      "text/plain": [
       "'doro'"
      ]
     },
     "execution_count": 77,
     "metadata": {},
     "output_type": "execute_result"
    }
   ],
   "source": [
    "# E se quissemos os 4 últimos?\n",
    "nome[-4:]"
   ]
  },
  {
   "cell_type": "code",
   "execution_count": 79,
   "metadata": {},
   "outputs": [
    {
     "data": {
      "text/plain": [
       "'Teodoro'"
      ]
     },
     "execution_count": 79,
     "metadata": {},
     "output_type": "execute_result"
    }
   ],
   "source": [
    "nome"
   ]
  },
  {
   "cell_type": "code",
   "execution_count": 96,
   "metadata": {},
   "outputs": [
    {
     "data": {
      "text/plain": [
       "'Tooo'"
      ]
     },
     "execution_count": 96,
     "metadata": {},
     "output_type": "execute_result"
    }
   ],
   "source": [
    "# Start = Início\n",
    "# Stop = Fim\n",
    "# Step = Passo\n",
    "\n",
    "# nome[ start : stop : step ]\n",
    "\n",
    "nome[::2]"
   ]
  },
  {
   "cell_type": "code",
   "execution_count": 98,
   "metadata": {},
   "outputs": [
    {
     "data": {
      "text/plain": [
       "'oooT'"
      ]
     },
     "execution_count": 98,
     "metadata": {},
     "output_type": "execute_result"
    }
   ],
   "source": [
    "# E colocar de tras para frente?\n",
    "nome[::-2]"
   ]
  },
  {
   "cell_type": "code",
   "execution_count": 107,
   "metadata": {},
   "outputs": [
    {
     "data": {
      "text/plain": [
       "'TEODORO'"
      ]
     },
     "execution_count": 107,
     "metadata": {},
     "output_type": "execute_result"
    }
   ],
   "source": [
    "## String tem métodos?\n",
    "nome_upper = nome.upper() # Método para caixa alta\n",
    "nome_upper"
   ]
  },
  {
   "cell_type": "code",
   "execution_count": 106,
   "metadata": {},
   "outputs": [
    {
     "data": {
      "text/plain": [
       "'teodoro'"
      ]
     },
     "execution_count": 106,
     "metadata": {},
     "output_type": "execute_result"
    }
   ],
   "source": [
    "nome_lower = nome.lower() # Método para caixa baixa\n",
    "nome_lower"
   ]
  },
  {
   "cell_type": "code",
   "execution_count": 108,
   "metadata": {},
   "outputs": [
    {
     "data": {
      "text/plain": [
       "'Teodoro'"
      ]
     },
     "execution_count": 108,
     "metadata": {},
     "output_type": "execute_result"
    }
   ],
   "source": [
    "nome"
   ]
  },
  {
   "cell_type": "code",
   "execution_count": 110,
   "metadata": {},
   "outputs": [
    {
     "name": "stdout",
     "output_type": "stream",
     "text": [
      "Entre com o seu nome: Teodoro Calvo\n",
      "Nome original: Teodoro Calvo\n",
      "Nome caixa alta: TEODORO CALVO\n",
      "Nome caixa baixa: teodoro calvo\n"
     ]
    }
   ],
   "source": [
    "nome = input(\"Entre com o seu nome: \")\n",
    "nome_upper = nome.upper() # Método para caixa alta\n",
    "nome_lower = nome.lower() # Método para caixa baixa\n",
    "\n",
    "print(\"Nome original:\", nome)\n",
    "print(\"Nome caixa alta:\", nome_upper)\n",
    "print(\"Nome caixa baixa:\", nome_lower)"
   ]
  },
  {
   "cell_type": "code",
   "execution_count": 115,
   "metadata": {},
   "outputs": [
    {
     "data": {
      "text/plain": [
       "True"
      ]
     },
     "execution_count": 115,
     "metadata": {},
     "output_type": "execute_result"
    }
   ],
   "source": [
    "nome.startswith(\"Teo\") # Saber o início da string"
   ]
  },
  {
   "cell_type": "code",
   "execution_count": 116,
   "metadata": {},
   "outputs": [
    {
     "data": {
      "text/plain": [
       "True"
      ]
     },
     "execution_count": 116,
     "metadata": {},
     "output_type": "execute_result"
    }
   ],
   "source": [
    "nome.endswith(\"Calvo\") # Saber o fim da string"
   ]
  },
  {
   "cell_type": "code",
   "execution_count": 121,
   "metadata": {},
   "outputs": [
    {
     "data": {
      "text/plain": [
       "3"
      ]
     },
     "execution_count": 121,
     "metadata": {},
     "output_type": "execute_result"
    }
   ],
   "source": [
    "nome.count(\"o\", 0, 7)"
   ]
  },
  {
   "cell_type": "code",
   "execution_count": 122,
   "metadata": {},
   "outputs": [
    {
     "data": {
      "text/plain": [
       "'Teodoro Calvo'"
      ]
     },
     "execution_count": 122,
     "metadata": {},
     "output_type": "execute_result"
    }
   ],
   "source": [
    "nome"
   ]
  },
  {
   "cell_type": "code",
   "execution_count": 119,
   "metadata": {},
   "outputs": [
    {
     "data": {
      "text/plain": [
       "'Teodoro Calvo'"
      ]
     },
     "execution_count": 119,
     "metadata": {},
     "output_type": "execute_result"
    }
   ],
   "source": [
    "nome"
   ]
  },
  {
   "cell_type": "code",
   "execution_count": 123,
   "metadata": {},
   "outputs": [],
   "source": [
    "nome_pai = \"Emanuel\""
   ]
  },
  {
   "cell_type": "code",
   "execution_count": 128,
   "metadata": {},
   "outputs": [
    {
     "data": {
      "text/plain": [
       "2"
      ]
     },
     "execution_count": 128,
     "metadata": {},
     "output_type": "execute_result"
    }
   ],
   "source": [
    "nome_pai_lower = nome_pai.lower()\n",
    "nome_pai_lower.count(\"e\")"
   ]
  },
  {
   "cell_type": "code",
   "execution_count": 130,
   "metadata": {},
   "outputs": [
    {
     "data": {
      "text/plain": [
       "2"
      ]
     },
     "execution_count": 130,
     "metadata": {},
     "output_type": "execute_result"
    }
   ],
   "source": [
    "nome_pai.lower().count(\"e\")"
   ]
  },
  {
   "cell_type": "code",
   "execution_count": 134,
   "metadata": {},
   "outputs": [
    {
     "data": {
      "text/plain": [
       "2"
      ]
     },
     "execution_count": 134,
     "metadata": {},
     "output_type": "execute_result"
    }
   ],
   "source": [
    "nome.index(\"o\")"
   ]
  },
  {
   "cell_type": "code",
   "execution_count": 135,
   "metadata": {},
   "outputs": [
    {
     "data": {
      "text/plain": [
       "'o'"
      ]
     },
     "execution_count": 135,
     "metadata": {},
     "output_type": "execute_result"
    }
   ],
   "source": [
    "nome[2]"
   ]
  },
  {
   "cell_type": "code",
   "execution_count": 141,
   "metadata": {},
   "outputs": [
    {
     "data": {
      "text/plain": [
       "'Téo Calvo'"
      ]
     },
     "execution_count": 141,
     "metadata": {},
     "output_type": "execute_result"
    }
   ],
   "source": [
    "nome = \"Téo\"\n",
    "sobrenome = \"Calvo\"\n",
    "\n",
    "nome_completo = nome + \" \" + sobrenome\n",
    "nome_completo"
   ]
  },
  {
   "cell_type": "markdown",
   "metadata": {},
   "source": [
    "## Vamos para os números?\n",
    "\n",
    "Python pode servir de calculadora, por exemplo somar, dividir, exponenciar, módulo, etc...\n",
    "\n",
    "Lembrando que temos dois tipos básicos de numéricos: int e float.\n",
    "\n",
    "Adicionando ainda, os booleanos: True e False"
   ]
  },
  {
   "cell_type": "code",
   "execution_count": 145,
   "metadata": {},
   "outputs": [
    {
     "data": {
      "text/plain": [
       "int"
      ]
     },
     "execution_count": 145,
     "metadata": {},
     "output_type": "execute_result"
    }
   ],
   "source": [
    "type(1)"
   ]
  },
  {
   "cell_type": "code",
   "execution_count": 148,
   "metadata": {},
   "outputs": [
    {
     "data": {
      "text/plain": [
       "float"
      ]
     },
     "execution_count": 148,
     "metadata": {},
     "output_type": "execute_result"
    }
   ],
   "source": [
    "type(1.)"
   ]
  },
  {
   "cell_type": "code",
   "execution_count": 149,
   "metadata": {},
   "outputs": [
    {
     "data": {
      "text/plain": [
       "2"
      ]
     },
     "execution_count": 149,
     "metadata": {},
     "output_type": "execute_result"
    }
   ],
   "source": [
    "1 + 1 # Soma"
   ]
  },
  {
   "cell_type": "code",
   "execution_count": 151,
   "metadata": {},
   "outputs": [
    {
     "data": {
      "text/plain": [
       "int"
      ]
     },
     "execution_count": 151,
     "metadata": {},
     "output_type": "execute_result"
    }
   ],
   "source": [
    "type(1+1)"
   ]
  },
  {
   "cell_type": "code",
   "execution_count": 152,
   "metadata": {},
   "outputs": [
    {
     "data": {
      "text/plain": [
       "float"
      ]
     },
     "execution_count": 152,
     "metadata": {},
     "output_type": "execute_result"
    }
   ],
   "source": [
    "type(1 + 1.)"
   ]
  },
  {
   "cell_type": "code",
   "execution_count": 150,
   "metadata": {},
   "outputs": [
    {
     "data": {
      "text/plain": [
       "0"
      ]
     },
     "execution_count": 150,
     "metadata": {},
     "output_type": "execute_result"
    }
   ],
   "source": [
    "1 - 1 # Subtração"
   ]
  },
  {
   "cell_type": "code",
   "execution_count": 158,
   "metadata": {},
   "outputs": [
    {
     "data": {
      "text/plain": [
       "5.0"
      ]
     },
     "execution_count": 158,
     "metadata": {},
     "output_type": "execute_result"
    }
   ],
   "source": [
    "10 / 2"
   ]
  },
  {
   "cell_type": "code",
   "execution_count": 161,
   "metadata": {},
   "outputs": [
    {
     "data": {
      "text/plain": [
       "3"
      ]
     },
     "execution_count": 161,
     "metadata": {},
     "output_type": "execute_result"
    }
   ],
   "source": [
    "10 // 3 # Parte inteira da divisão"
   ]
  },
  {
   "cell_type": "code",
   "execution_count": 163,
   "metadata": {},
   "outputs": [
    {
     "data": {
      "text/plain": [
       "1"
      ]
     },
     "execution_count": 163,
     "metadata": {},
     "output_type": "execute_result"
    }
   ],
   "source": [
    "10 % 3 # resto da divisão"
   ]
  },
  {
   "cell_type": "code",
   "execution_count": 165,
   "metadata": {},
   "outputs": [
    {
     "data": {
      "text/plain": [
       "3.3333333333333335"
      ]
     },
     "execution_count": 165,
     "metadata": {},
     "output_type": "execute_result"
    }
   ],
   "source": [
    "10 / 3 # Divisão"
   ]
  },
  {
   "cell_type": "code",
   "execution_count": 168,
   "metadata": {},
   "outputs": [
    {
     "data": {
      "text/plain": [
       "1296"
      ]
     },
     "execution_count": 168,
     "metadata": {},
     "output_type": "execute_result"
    }
   ],
   "source": [
    "6 ** 4"
   ]
  },
  {
   "cell_type": "code",
   "execution_count": 172,
   "metadata": {},
   "outputs": [
    {
     "data": {
      "text/plain": [
       "2.0"
      ]
     },
     "execution_count": 172,
     "metadata": {},
     "output_type": "execute_result"
    }
   ],
   "source": [
    "4 ** (1/2) # raiz quadrada"
   ]
  },
  {
   "cell_type": "code",
   "execution_count": 7,
   "metadata": {},
   "outputs": [],
   "source": [
    "# 1 + 1\n",
    "\n",
    "# 1 - 1\n",
    "\n",
    "# 1 / 1\n",
    "\n",
    "# 1 * 1\n",
    "\n",
    "# 1 % 1\n",
    "\n",
    "# 1 ** 1\n",
    "\n",
    "# True + True"
   ]
  },
  {
   "cell_type": "markdown",
   "metadata": {},
   "source": [
    "## Tipos iteráveis\n",
    "\n",
    "Tipos iteráveis são tipos de dados que podemos de alguma forma iterar por eles. Mas o que diabos é iterar? Iterar é a possibilidade de criar iterações (loops) a partir de uma determinada condição lógica ou objeto a ser percorrido (iterado).\n",
    "\n",
    "Exemplo de iteráveis:\n",
    "\n",
    "- listas\n",
    "- tuplas\n",
    "- dicionários\n",
    "- range\n",
    "\n",
    "ps. Strings são iteráveis também.\n",
    "\n",
    "Vamos começar com listas...\n",
    "\n",
    "## Listas\n",
    "\n",
    "Listas são objetos que carregam (apontam) para um conjunto finito de quaiquer outros tipos de objetos. Pense me listas como vagões de trem que carregam uma determinada carga, onde cada um desses vagões pode conter tipos de carga totalmente diferentes. Ou seja, em um vagão pode haver minério, no outro madeira, e no outro conter pessoas."
   ]
  },
  {
   "cell_type": "code",
   "execution_count": 174,
   "metadata": {},
   "outputs": [],
   "source": [
    "lista_vazia = []"
   ]
  },
  {
   "cell_type": "code",
   "execution_count": 175,
   "metadata": {},
   "outputs": [
    {
     "data": {
      "text/plain": [
       "[]"
      ]
     },
     "execution_count": 175,
     "metadata": {},
     "output_type": "execute_result"
    }
   ],
   "source": [
    "lista_vazia"
   ]
  },
  {
   "cell_type": "code",
   "execution_count": 176,
   "metadata": {},
   "outputs": [],
   "source": [
    "minha_lista = [\"Téo\", \"Calvo\", 28, \"Unesp\", \"GC\"]"
   ]
  },
  {
   "cell_type": "code",
   "execution_count": 181,
   "metadata": {},
   "outputs": [
    {
     "data": {
      "text/plain": [
       "'Téo'"
      ]
     },
     "execution_count": 181,
     "metadata": {},
     "output_type": "execute_result"
    }
   ],
   "source": [
    "minha_lista[0] # Primeiro elemento"
   ]
  },
  {
   "cell_type": "code",
   "execution_count": 182,
   "metadata": {},
   "outputs": [
    {
     "data": {
      "text/plain": [
       "'GC'"
      ]
     },
     "execution_count": 182,
     "metadata": {},
     "output_type": "execute_result"
    }
   ],
   "source": [
    "minha_lista[-1] # Último elemento"
   ]
  },
  {
   "cell_type": "code",
   "execution_count": 183,
   "metadata": {},
   "outputs": [
    {
     "data": {
      "text/plain": [
       "['Téo', 'Calvo']"
      ]
     },
     "execution_count": 183,
     "metadata": {},
     "output_type": "execute_result"
    }
   ],
   "source": [
    "minha_lista[:2] # lista de dois elemento"
   ]
  },
  {
   "cell_type": "code",
   "execution_count": 184,
   "metadata": {},
   "outputs": [
    {
     "data": {
      "text/plain": [
       "5"
      ]
     },
     "execution_count": 184,
     "metadata": {},
     "output_type": "execute_result"
    }
   ],
   "source": [
    "len(minha_lista)"
   ]
  },
  {
   "cell_type": "code",
   "execution_count": 186,
   "metadata": {},
   "outputs": [
    {
     "data": {
      "text/plain": [
       "'T'"
      ]
     },
     "execution_count": 186,
     "metadata": {},
     "output_type": "execute_result"
    }
   ],
   "source": [
    "# Qual a primeira letra do meu nome?\n",
    "\n",
    "nome = minha_lista[0]\n",
    "nome[0]"
   ]
  },
  {
   "cell_type": "code",
   "execution_count": 188,
   "metadata": {},
   "outputs": [
    {
     "data": {
      "text/plain": [
       "'T'"
      ]
     },
     "execution_count": 188,
     "metadata": {},
     "output_type": "execute_result"
    }
   ],
   "source": [
    "# Qual a primeira letra do meu nome?\n",
    "minha_lista[0][0]"
   ]
  },
  {
   "cell_type": "code",
   "execution_count": 189,
   "metadata": {},
   "outputs": [
    {
     "data": {
      "text/plain": [
       "['Téo', 'Calvo', 28, 'Unesp', 'GC']"
      ]
     },
     "execution_count": 189,
     "metadata": {},
     "output_type": "execute_result"
    }
   ],
   "source": [
    "minha_lista"
   ]
  },
  {
   "cell_type": "code",
   "execution_count": 191,
   "metadata": {},
   "outputs": [
    {
     "data": {
      "text/plain": [
       "'p'"
      ]
     },
     "execution_count": 191,
     "metadata": {},
     "output_type": "execute_result"
    }
   ],
   "source": [
    "# Qual é a última letra da minha universidade?\n",
    "\n",
    "minha_lista[-2][-1]"
   ]
  },
  {
   "cell_type": "code",
   "execution_count": 194,
   "metadata": {},
   "outputs": [
    {
     "data": {
      "text/plain": [
       "5"
      ]
     },
     "execution_count": 194,
     "metadata": {},
     "output_type": "execute_result"
    }
   ],
   "source": [
    "len(minha_lista)"
   ]
  },
  {
   "cell_type": "code",
   "execution_count": 197,
   "metadata": {},
   "outputs": [],
   "source": [
    "nova_lista = [\"Téo\",\n",
    "              \"Calvo\",\n",
    "              28,\n",
    "              \"Natalia\",\n",
    "              [\"Unesp\", \"UFPR\"],\n",
    "              [\"Tapps\", \"SAS\", \"Boti\", \"Via\", \"GC\"],\n",
    "             ]\n"
   ]
  },
  {
   "cell_type": "code",
   "execution_count": 196,
   "metadata": {},
   "outputs": [
    {
     "data": {
      "text/plain": [
       "6"
      ]
     },
     "execution_count": 196,
     "metadata": {},
     "output_type": "execute_result"
    }
   ],
   "source": [
    "len(nova_lista)"
   ]
  },
  {
   "cell_type": "code",
   "execution_count": 200,
   "metadata": {},
   "outputs": [
    {
     "data": {
      "text/plain": [
       "'Unesp'"
      ]
     },
     "execution_count": 200,
     "metadata": {},
     "output_type": "execute_result"
    }
   ],
   "source": [
    "nova_lista[-2][0] # Primeira universidade"
   ]
  },
  {
   "cell_type": "code",
   "execution_count": 201,
   "metadata": {},
   "outputs": [
    {
     "data": {
      "text/plain": [
       "'Tapps'"
      ]
     },
     "execution_count": 201,
     "metadata": {},
     "output_type": "execute_result"
    }
   ],
   "source": [
    "nova_lista[-1][0] # Primeira empresa CLT do Téo"
   ]
  },
  {
   "cell_type": "code",
   "execution_count": 203,
   "metadata": {},
   "outputs": [
    {
     "data": {
      "text/plain": [
       "'GC'"
      ]
     },
     "execution_count": 203,
     "metadata": {},
     "output_type": "execute_result"
    }
   ],
   "source": [
    "nova_lista[-1][-1] # Última empresa CLT do Téo\n",
    "\n",
    "# primeiro é 0\n",
    "# último -1"
   ]
  },
  {
   "cell_type": "code",
   "execution_count": 205,
   "metadata": {},
   "outputs": [
    {
     "data": {
      "text/plain": [
       "True"
      ]
     },
     "execution_count": 205,
     "metadata": {},
     "output_type": "execute_result"
    }
   ],
   "source": [
    "'Téo' == \"Téo\" == '''Téo''' == \"\"\"Téo\"\"\""
   ]
  },
  {
   "cell_type": "code",
   "execution_count": 210,
   "metadata": {},
   "outputs": [],
   "source": [
    "x = [10, 20, 1, 2, 5, 10, 21, 23] # Essa é uma lista de inteiros"
   ]
  },
  {
   "cell_type": "code",
   "execution_count": 211,
   "metadata": {},
   "outputs": [
    {
     "data": {
      "text/plain": [
       "92"
      ]
     },
     "execution_count": 211,
     "metadata": {},
     "output_type": "execute_result"
    }
   ],
   "source": [
    "sum(x) # Função chamada sum()"
   ]
  },
  {
   "cell_type": "code",
   "execution_count": 214,
   "metadata": {},
   "outputs": [
    {
     "data": {
      "text/plain": [
       "11.5"
      ]
     },
     "execution_count": 214,
     "metadata": {},
     "output_type": "execute_result"
    }
   ],
   "source": [
    "media = sum(x) / len(x)\n",
    "media"
   ]
  },
  {
   "cell_type": "code",
   "execution_count": 241,
   "metadata": {},
   "outputs": [
    {
     "name": "stdout",
     "output_type": "stream",
     "text": [
      "Média de y: 11.5\n"
     ]
    }
   ],
   "source": [
    "y = [10., 20, 1, 2., 5, 10, 21, 23]\n",
    "soma_y = sum(y)\n",
    "media_y = soma_y / len(y)\n",
    "\n",
    "print(\"Média de y:\", media_y)"
   ]
  },
  {
   "cell_type": "code",
   "execution_count": 216,
   "metadata": {},
   "outputs": [],
   "source": [
    "t = [10, 20, 1, 2, 5, 10, 21, 23, \"Téo\"]"
   ]
  },
  {
   "cell_type": "code",
   "execution_count": 218,
   "metadata": {},
   "outputs": [
    {
     "data": {
      "text/plain": [
       "92"
      ]
     },
     "execution_count": 218,
     "metadata": {},
     "output_type": "execute_result"
    }
   ],
   "source": [
    "sum(t[:-1])"
   ]
  },
  {
   "cell_type": "code",
   "execution_count": 226,
   "metadata": {},
   "outputs": [],
   "source": [
    "y.append(-3) # Add um novo elemento ao final da lista"
   ]
  },
  {
   "cell_type": "code",
   "execution_count": 230,
   "metadata": {},
   "outputs": [],
   "source": [
    "y.sort(reverse=True) # Ordena a lista de valores"
   ]
  },
  {
   "cell_type": "code",
   "execution_count": 231,
   "metadata": {},
   "outputs": [
    {
     "data": {
      "text/plain": [
       "[25, 25, 23, 21, 20, 10.0, 10, 5, 2.0, 1, -3]"
      ]
     },
     "execution_count": 231,
     "metadata": {},
     "output_type": "execute_result"
    }
   ],
   "source": [
    "y"
   ]
  },
  {
   "cell_type": "code",
   "execution_count": 234,
   "metadata": {},
   "outputs": [
    {
     "data": {
      "text/plain": [
       "[10, 20, 1, 2, 5, 10, 21, 23, 25, 25, 23, 21, 20, 10.0, 10, 5, 2.0, 1, -3]"
      ]
     },
     "execution_count": 234,
     "metadata": {},
     "output_type": "execute_result"
    }
   ],
   "source": [
    "w = x + y # Concatena duas listas e retorna uma nova\n",
    "w"
   ]
  },
  {
   "cell_type": "code",
   "execution_count": 237,
   "metadata": {},
   "outputs": [],
   "source": [
    "x.extend(y) # Adiciona os valores em de uma lista à outra"
   ]
  },
  {
   "cell_type": "code",
   "execution_count": 236,
   "metadata": {},
   "outputs": [
    {
     "data": {
      "text/plain": [
       "[10, 20, 1, 2, 5, 10, 21, 23, 25, 25, 23, 21, 20, 10.0, 10, 5, 2.0, 1, -3]"
      ]
     },
     "execution_count": 236,
     "metadata": {},
     "output_type": "execute_result"
    }
   ],
   "source": [
    "x"
   ]
  },
  {
   "cell_type": "code",
   "execution_count": 242,
   "metadata": {},
   "outputs": [],
   "source": [
    "y.extend([1,2])"
   ]
  },
  {
   "cell_type": "code",
   "execution_count": 243,
   "metadata": {},
   "outputs": [
    {
     "data": {
      "text/plain": [
       "[10.0, 20, 1, 2.0, 5, 10, 21, 23, 1, 2]"
      ]
     },
     "execution_count": 243,
     "metadata": {},
     "output_type": "execute_result"
    }
   ],
   "source": [
    "y"
   ]
  },
  {
   "cell_type": "code",
   "execution_count": 249,
   "metadata": {},
   "outputs": [
    {
     "data": {
      "text/plain": [
       "2"
      ]
     },
     "execution_count": 249,
     "metadata": {},
     "output_type": "execute_result"
    }
   ],
   "source": [
    "y.count(10) # qtde 10`s encontrados"
   ]
  },
  {
   "cell_type": "code",
   "execution_count": 250,
   "metadata": {},
   "outputs": [
    {
     "data": {
      "text/plain": [
       "2"
      ]
     },
     "execution_count": 250,
     "metadata": {},
     "output_type": "execute_result"
    }
   ],
   "source": [
    "y.index(1) # posição do valor 1"
   ]
  },
  {
   "cell_type": "code",
   "execution_count": 251,
   "metadata": {},
   "outputs": [],
   "source": [
    "y.remove(10)"
   ]
  },
  {
   "cell_type": "code",
   "execution_count": 244,
   "metadata": {},
   "outputs": [],
   "source": [
    "# Append -> Add um único elemento\n",
    "# Extend -> Concatena uma lista de valores à lista\n",
    "# operador + -> Concatena duas lista e retorna uma nova"
   ]
  },
  {
   "cell_type": "markdown",
   "metadata": {},
   "source": [
    "## Tuplas\n",
    "\n",
    "### Maneira feia de definir tuplas:\n",
    "\n",
    "Tuplas são listas imutáveis. Mas o que e isso?"
   ]
  },
  {
   "cell_type": "code",
   "execution_count": 256,
   "metadata": {},
   "outputs": [],
   "source": [
    "x_tuple = (10.0, 20, 1, 2.0, 5, 10, 21, 23, 1, 2) # isso é uma tupla!!"
   ]
  },
  {
   "cell_type": "code",
   "execution_count": 257,
   "metadata": {},
   "outputs": [
    {
     "data": {
      "text/plain": [
       "tuple"
      ]
     },
     "execution_count": 257,
     "metadata": {},
     "output_type": "execute_result"
    }
   ],
   "source": [
    "type(x_tuple)"
   ]
  },
  {
   "cell_type": "code",
   "execution_count": 260,
   "metadata": {},
   "outputs": [
    {
     "data": {
      "text/plain": [
       "9.5"
      ]
     },
     "execution_count": 260,
     "metadata": {},
     "output_type": "execute_result"
    }
   ],
   "source": [
    "sum(x_tuple) / len(x_tuple)"
   ]
  },
  {
   "cell_type": "code",
   "execution_count": 265,
   "metadata": {},
   "outputs": [],
   "source": [
    "x = [1,2,3,4,5,6,8,9] # Isso é uma lista"
   ]
  },
  {
   "cell_type": "code",
   "execution_count": 263,
   "metadata": {},
   "outputs": [],
   "source": [
    "x[6] = 7"
   ]
  },
  {
   "cell_type": "code",
   "execution_count": 264,
   "metadata": {},
   "outputs": [
    {
     "data": {
      "text/plain": [
       "[1, 2, 3, 4, 5, 6, 7, 9]"
      ]
     },
     "execution_count": 264,
     "metadata": {},
     "output_type": "execute_result"
    }
   ],
   "source": [
    "x"
   ]
  },
  {
   "cell_type": "code",
   "execution_count": 267,
   "metadata": {},
   "outputs": [
    {
     "ename": "TypeError",
     "evalue": "'tuple' object does not support item assignment",
     "output_type": "error",
     "traceback": [
      "\u001b[0;31m---------------------------------------------------------------------------\u001b[0m",
      "\u001b[0;31mTypeError\u001b[0m                                 Traceback (most recent call last)",
      "\u001b[0;32m<ipython-input-267-fd10b7e36f48>\u001b[0m in \u001b[0;36m<module>\u001b[0;34m\u001b[0m\n\u001b[0;32m----> 1\u001b[0;31m \u001b[0mx_tuple\u001b[0m\u001b[0;34m[\u001b[0m\u001b[0;36m0\u001b[0m\u001b[0;34m]\u001b[0m \u001b[0;34m=\u001b[0m \u001b[0;36m0\u001b[0m\u001b[0;34m\u001b[0m\u001b[0;34m\u001b[0m\u001b[0m\n\u001b[0m",
      "\u001b[0;31mTypeError\u001b[0m: 'tuple' object does not support item assignment"
     ]
    }
   ],
   "source": [
    "x_tuple[0] = 0"
   ]
  },
  {
   "cell_type": "code",
   "execution_count": 270,
   "metadata": {},
   "outputs": [],
   "source": [
    "x = list(x_tuple)"
   ]
  },
  {
   "cell_type": "code",
   "execution_count": 271,
   "metadata": {},
   "outputs": [
    {
     "data": {
      "text/plain": [
       "[10.0, 20, 1, 2.0, 5, 10, 21, 23, 1, 2]"
      ]
     },
     "execution_count": 271,
     "metadata": {},
     "output_type": "execute_result"
    }
   ],
   "source": [
    "x"
   ]
  },
  {
   "cell_type": "code",
   "execution_count": 272,
   "metadata": {},
   "outputs": [
    {
     "data": {
      "text/plain": [
       "(10.0, 20, 1, 2.0, 5, 10, 21, 23, 1, 2)"
      ]
     },
     "execution_count": 272,
     "metadata": {},
     "output_type": "execute_result"
    }
   ],
   "source": [
    "x_tuple"
   ]
  },
  {
   "cell_type": "markdown",
   "metadata": {},
   "source": [
    "## Dicionários\n",
    "\n",
    "Dicionários não estruturas de dados referentes à pares de chave/valor. Isso significa que vc atrela um valor a determinada chave, ao invés de uma posição, como no caso das listas e tuplas. Ressalto que o 'valor' pode ser qualquer tipo de objeto."
   ]
  },
  {
   "cell_type": "code",
   "execution_count": 273,
   "metadata": {},
   "outputs": [],
   "source": [
    "dict_vazio = {}"
   ]
  },
  {
   "cell_type": "code",
   "execution_count": 274,
   "metadata": {},
   "outputs": [
    {
     "data": {
      "text/plain": [
       "dict"
      ]
     },
     "execution_count": 274,
     "metadata": {},
     "output_type": "execute_result"
    }
   ],
   "source": [
    "type(dict_vazio)"
   ]
  },
  {
   "cell_type": "code",
   "execution_count": 287,
   "metadata": {},
   "outputs": [],
   "source": [
    "meus_dados = {\n",
    "             \"chave\":\"valor\",\n",
    "             \"nome\":\"Téo\",\n",
    "             \"sobrenome\":\"Calvo\",\n",
    "             \"idade\":28,\n",
    "             \"formacao\":[\"Unesp\", \"UFPR\"],\n",
    "             \"carreira\":[\"Tapps\", \"SAS\", \"Boti\", \"Via\", \"GC\"]}"
   ]
  },
  {
   "cell_type": "code",
   "execution_count": 282,
   "metadata": {},
   "outputs": [
    {
     "data": {
      "text/plain": [
       "{'chave': 'valor',\n",
       " 'nome': 'Téo',\n",
       " 'sobrenome': 'Calvo',\n",
       " 'idade': 28,\n",
       " 'formacao': ['Unesp', 'UFPR'],\n",
       " 'carreira': ['Tapps', 'SAS', 'Boti', 'Via', 'GC']}"
      ]
     },
     "execution_count": 282,
     "metadata": {},
     "output_type": "execute_result"
    }
   ],
   "source": [
    "meus_dados"
   ]
  },
  {
   "cell_type": "code",
   "execution_count": 285,
   "metadata": {},
   "outputs": [
    {
     "data": {
      "text/plain": [
       "['Unesp', 'UFPR']"
      ]
     },
     "execution_count": 285,
     "metadata": {},
     "output_type": "execute_result"
    }
   ],
   "source": [
    "meus_dados[\"formacao\"]"
   ]
  },
  {
   "cell_type": "code",
   "execution_count": 289,
   "metadata": {},
   "outputs": [],
   "source": [
    "meus_dados[\"esposa\"] = \"Natalia\""
   ]
  },
  {
   "cell_type": "code",
   "execution_count": 290,
   "metadata": {},
   "outputs": [
    {
     "data": {
      "text/plain": [
       "{'chave': 'valor',\n",
       " 'nome': 'Téo',\n",
       " 'sobrenome': 'Calvo',\n",
       " 'idade': 28,\n",
       " 'formacao': ['Unesp', 'UFPR'],\n",
       " 'carreira': ['Tapps', 'SAS', 'Boti', 'Via', 'GC'],\n",
       " 'esposa': 'Natalia'}"
      ]
     },
     "execution_count": 290,
     "metadata": {},
     "output_type": "execute_result"
    }
   ],
   "source": [
    "meus_dados"
   ]
  },
  {
   "cell_type": "code",
   "execution_count": 291,
   "metadata": {},
   "outputs": [
    {
     "data": {
      "text/plain": [
       "'Unesp'"
      ]
     },
     "execution_count": 291,
     "metadata": {},
     "output_type": "execute_result"
    }
   ],
   "source": [
    "# A priemira formação do téo\n",
    "meus_dados[\"formacao\"][0]"
   ]
  },
  {
   "cell_type": "code",
   "execution_count": 293,
   "metadata": {},
   "outputs": [
    {
     "data": {
      "text/plain": [
       "'GC'"
      ]
     },
     "execution_count": 293,
     "metadata": {},
     "output_type": "execute_result"
    }
   ],
   "source": [
    "meus_dados[\"carreira\"][-1] # Emprego atual"
   ]
  },
  {
   "cell_type": "code",
   "execution_count": 295,
   "metadata": {},
   "outputs": [
    {
     "data": {
      "text/plain": [
       "dict_keys(['chave', 'nome', 'sobrenome', 'idade', 'formacao', 'carreira', 'esposa'])"
      ]
     },
     "execution_count": 295,
     "metadata": {},
     "output_type": "execute_result"
    }
   ],
   "source": [
    "meus_dados.keys() # Listando todas as chaves do dicionário"
   ]
  },
  {
   "cell_type": "code",
   "execution_count": 297,
   "metadata": {},
   "outputs": [
    {
     "data": {
      "text/plain": [
       "dict_values(['valor', 'Téo', 'Calvo', 28, ['Unesp', 'UFPR'], ['Tapps', 'SAS', 'Boti', 'Via', 'GC'], 'Natalia'])"
      ]
     },
     "execution_count": 297,
     "metadata": {},
     "output_type": "execute_result"
    }
   ],
   "source": [
    "meus_dados.values() # Listando todos os valoes do dicionário"
   ]
  },
  {
   "cell_type": "code",
   "execution_count": 298,
   "metadata": {},
   "outputs": [
    {
     "data": {
      "text/plain": [
       "dict_items([('chave', 'valor'), ('nome', 'Téo'), ('sobrenome', 'Calvo'), ('idade', 28), ('formacao', ['Unesp', 'UFPR']), ('carreira', ['Tapps', 'SAS', 'Boti', 'Via', 'GC']), ('esposa', 'Natalia')])"
      ]
     },
     "execution_count": 298,
     "metadata": {},
     "output_type": "execute_result"
    }
   ],
   "source": [
    "meus_dados.items()"
   ]
  },
  {
   "cell_type": "code",
   "execution_count": 302,
   "metadata": {},
   "outputs": [],
   "source": [
    "# Motivando a galera a usar dicionarios e listas\n",
    "import requests\n",
    "url = \"https://api.opendota.com/api/proMatches\"\n",
    "data = requests.get(url).json()"
   ]
  },
  {
   "cell_type": "code",
   "execution_count": 308,
   "metadata": {},
   "outputs": [],
   "source": [
    "match_0 = data[0]"
   ]
  },
  {
   "cell_type": "code",
   "execution_count": 311,
   "metadata": {},
   "outputs": [
    {
     "data": {
      "text/plain": [
       "6018632383"
      ]
     },
     "execution_count": 311,
     "metadata": {},
     "output_type": "execute_result"
    }
   ],
   "source": [
    "match_0[\"match_id\"]"
   ]
  },
  {
   "cell_type": "code",
   "execution_count": 312,
   "metadata": {},
   "outputs": [
    {
     "data": {
      "text/plain": [
       "{'match_id': 6018632383,\n",
       " 'duration': 1548,\n",
       " 'start_time': 1622380025,\n",
       " 'radiant_team_id': 8034139,\n",
       " 'radiant_name': None,\n",
       " 'dire_team_id': 8188432,\n",
       " 'dire_name': 'WildWays',\n",
       " 'leagueid': 12903,\n",
       " 'league_name': 'YouTube SIVVIT - Big Russian Show',\n",
       " 'series_id': 565528,\n",
       " 'series_type': 0,\n",
       " 'radiant_score': 35,\n",
       " 'dire_score': 17,\n",
       " 'radiant_win': True}"
      ]
     },
     "execution_count": 312,
     "metadata": {},
     "output_type": "execute_result"
    }
   ],
   "source": [
    "data[0]"
   ]
  },
  {
   "cell_type": "markdown",
   "metadata": {},
   "source": [
    "## Funções\n",
    "\n",
    "Funções são nossas amigas para reaproveitar código. Assim, caso tenha algum tipo de execução que seja parecido, não é necessário escrever o mesmo código toda vez."
   ]
  },
  {
   "cell_type": "code",
   "execution_count": 320,
   "metadata": {},
   "outputs": [],
   "source": [
    "# f(x) = x**2 + 2 * x + 10\n",
    "\n",
    "# Definição da função\n",
    "def funcao(x):\n",
    "    return x ** 2 + 2 * x + 10"
   ]
  },
  {
   "cell_type": "code",
   "execution_count": 319,
   "metadata": {},
   "outputs": [
    {
     "data": {
      "text/plain": [
       "130"
      ]
     },
     "execution_count": 319,
     "metadata": {},
     "output_type": "execute_result"
    }
   ],
   "source": [
    "# Uso da função\n",
    "funcao(10)"
   ]
  },
  {
   "cell_type": "code",
   "execution_count": 323,
   "metadata": {},
   "outputs": [],
   "source": [
    "def corte_letras(nome):\n",
    "    return nome[:3].upper()"
   ]
  },
  {
   "cell_type": "code",
   "execution_count": 324,
   "metadata": {},
   "outputs": [
    {
     "data": {
      "text/plain": [
       "'TEO'"
      ]
     },
     "execution_count": 324,
     "metadata": {},
     "output_type": "execute_result"
    }
   ],
   "source": [
    "corte_letras(\"Teodoro Balbino Calvo\")"
   ]
  },
  {
   "cell_type": "code",
   "execution_count": 328,
   "metadata": {},
   "outputs": [],
   "source": [
    "def media(x):\n",
    "    '''Função para calcular a média de uma lista de valores\n",
    "    \n",
    "    x: Vetor com valores'''\n",
    "    soma = sum(x)\n",
    "    return soma / len(x)"
   ]
  },
  {
   "cell_type": "code",
   "execution_count": 329,
   "metadata": {},
   "outputs": [
    {
     "data": {
      "text/plain": [
       "3.4"
      ]
     },
     "execution_count": 329,
     "metadata": {},
     "output_type": "execute_result"
    }
   ],
   "source": [
    "x = [1,2,3,2,1,3,4,5,6,7]\n",
    "\n",
    "media(x)"
   ]
  },
  {
   "cell_type": "code",
   "execution_count": 330,
   "metadata": {},
   "outputs": [],
   "source": [
    "def soma(a, b):\n",
    "    return a + b"
   ]
  },
  {
   "cell_type": "code",
   "execution_count": 331,
   "metadata": {},
   "outputs": [
    {
     "data": {
      "text/plain": [
       "30"
      ]
     },
     "execution_count": 331,
     "metadata": {},
     "output_type": "execute_result"
    }
   ],
   "source": [
    "soma(10,20)"
   ]
  },
  {
   "cell_type": "code",
   "execution_count": 332,
   "metadata": {},
   "outputs": [],
   "source": [
    "def soma(a, b=0):\n",
    "    '''Função para somar dois valores.\n",
    "    a: Valor obrigatório a ser passado\n",
    "    b: Valor opcional. Quando nao passado é igual a 0 (zero)'''\n",
    "    return a + b"
   ]
  },
  {
   "cell_type": "code",
   "execution_count": 335,
   "metadata": {},
   "outputs": [
    {
     "data": {
      "text/plain": [
       "20"
      ]
     },
     "execution_count": 335,
     "metadata": {},
     "output_type": "execute_result"
    }
   ],
   "source": [
    "soma(10,10)"
   ]
  },
  {
   "cell_type": "markdown",
   "metadata": {},
   "source": [
    "## Controle de Fluxo\n",
    "\n",
    "No python é possível alterar a sequencia de leitura das linhas, fazendo uso de 'funções' especiais para tal. Exemplo de operadores que alteram o fluxo de um programa:\n",
    "\n",
    "- if\n",
    "\n",
    "- elif\n",
    "\n",
    "- else\n",
    "\n",
    "- for\n",
    "\n",
    "- while\n",
    "\n",
    "- try\n",
    "\n",
    "Lembre-se que é obrigatório o uso de identação, 4 espaços são o padrão.\n",
    "\n",
    "### if, elif e else\n",
    "\n",
    "Tabelinha verdade, vocês viram em algebra elementar, certo?\n",
    "\n",
    "Então, verdade verdade => verdade ?\n",
    "\n",
    "Mesma coisa por aqui:\n",
    "\n",
    "if verdade => verdade e executamos\n",
    "\n",
    "else => executamos aqui"
   ]
  },
  {
   "cell_type": "code",
   "execution_count": 339,
   "metadata": {},
   "outputs": [
    {
     "data": {
      "text/plain": [
       "2"
      ]
     },
     "execution_count": 339,
     "metadata": {},
     "output_type": "execute_result"
    }
   ],
   "source": [
    "False + True + True"
   ]
  },
  {
   "cell_type": "code",
   "execution_count": 341,
   "metadata": {},
   "outputs": [
    {
     "name": "stdout",
     "output_type": "stream",
     "text": [
      "Informe a sua idade: 13\n",
      "Você ainda não tem idade para beber. Vá para casa!\n"
     ]
    }
   ],
   "source": [
    "idade = input(\"Informe a sua idade: \") # Retorna string\n",
    "idade = int(idade) # Agora a idade é m número!!\n",
    "\n",
    "if idade >= 18:\n",
    "    print(\"Beba a vontade!\")\n",
    "else:\n",
    "    print(\"Você ainda não tem idade para beber. Vá para casa!\")"
   ]
  },
  {
   "cell_type": "code",
   "execution_count": 343,
   "metadata": {},
   "outputs": [],
   "source": [
    "## Colocamos agora o elif!!!\n",
    "\n",
    "def coleta_idade(msg=\"Informe sua idade: \"):\n",
    "    idade = input(msg) # Retorna string\n",
    "    idade = int(idade) # Agora a idade é m número!!\n",
    "    return idade"
   ]
  },
  {
   "cell_type": "code",
   "execution_count": 347,
   "metadata": {},
   "outputs": [
    {
     "name": "stdout",
     "output_type": "stream",
     "text": [
      "Informe sua idade: 75\n",
      "Beba com moderaçao, você tem idade avançada!\n"
     ]
    }
   ],
   "source": [
    "idade = coleta_idade()\n",
    "\n",
    "if idade < 18:\n",
    "    print(\"Você ainda não tem idade para beber! Volte para casa!\")\n",
    "\n",
    "elif idade >= 70:\n",
    "    print(\"Beba com moderaçao, você tem idade avançada!\")\n",
    "    \n",
    "else:\n",
    "    print(\"Beba a vontade!\")"
   ]
  },
  {
   "cell_type": "code",
   "execution_count": 355,
   "metadata": {},
   "outputs": [
    {
     "name": "stdout",
     "output_type": "stream",
     "text": [
      "Entre com um número: 187\n",
      "É ímpar!\n"
     ]
    }
   ],
   "source": [
    "num = input(\"Entre com um número: \")\n",
    "num = int(num)\n",
    "\n",
    "resto = num % 2 # Resto da divisão\n",
    "\n",
    "if resto == 0:\n",
    "    print(\"É par!\")\n",
    "\n",
    "else:\n",
    "    print(\"É ímpar!\")"
   ]
  },
  {
   "cell_type": "code",
   "execution_count": 361,
   "metadata": {},
   "outputs": [
    {
     "name": "stdout",
     "output_type": "stream",
     "text": [
      "Entre com seu número: 12\n",
      "Você é um perdedor! Tente novamente!\n"
     ]
    }
   ],
   "source": [
    "## Loteria da babilonia!! V0\n",
    "\n",
    "numero_sorte = 7 # Este é o número da sorte da loteria, qm acertar ganha o prêmio!!\n",
    "numero_jogador = int(input(\"Entre com seu número: \")) # É o número que o usuário vai chutar\n",
    "\n",
    "if numero_jogador == numero_sorte:\n",
    "    print(\"Você é um ganhador!!\")\n",
    "    \n",
    "else:\n",
    "    print(\"Você é um perdedor! Tente novamente!\")"
   ]
  },
  {
   "cell_type": "code",
   "execution_count": 367,
   "metadata": {},
   "outputs": [
    {
     "name": "stdout",
     "output_type": "stream",
     "text": [
      "Entre com seu número: 4\n",
      "Você é um perdedor! Tente um número maior!\n"
     ]
    }
   ],
   "source": [
    "## Loteria da babilonia!! V1\n",
    "\n",
    "numero_sorte = 7 # Este é o número da sorte da loteria, qm acertar ganha o prêmio!!\n",
    "numero_jogador = int(input(\"Entre com seu número: \")) # É o número que o usuário vai chutar\n",
    "\n",
    "if numero_jogador == numero_sorte:\n",
    "    print(\"Você é um ganhador!!\")\n",
    "    \n",
    "elif numero_jogador > numero_sorte:\n",
    "    print(\"Você é um perdedor! Tente um número menor!\")\n",
    "\n",
    "else:\n",
    "    print(\"Você é um perdedor! Tente um número maior!\")"
   ]
  },
  {
   "cell_type": "markdown",
   "metadata": {},
   "source": [
    "### Laços de repetição\n",
    "\n",
    "For percorre um iterável (iterador), ou seja, enquanto o iterador tiver valores para ser iterado, o laço for continua:"
   ]
  },
  {
   "cell_type": "code",
   "execution_count": 371,
   "metadata": {},
   "outputs": [
    {
     "name": "stdout",
     "output_type": "stream",
     "text": [
      "1  - Téo\n",
      "2  - Téo\n",
      "3  - Téo\n",
      "4  - Téo\n"
     ]
    }
   ],
   "source": [
    "x = [1,2,3,4]\n",
    "for i in x:\n",
    "    print(i, \" - Téo\")"
   ]
  },
  {
   "cell_type": "code",
   "execution_count": 374,
   "metadata": {},
   "outputs": [
    {
     "name": "stdout",
     "output_type": "stream",
     "text": [
      "1 é impar!\n",
      "2 é par!\n",
      "3 é impar!\n",
      "4 é par!\n"
     ]
    }
   ],
   "source": [
    "x = [1,2,3,4]\n",
    "\n",
    "for i in x:\n",
    "    \n",
    "    if i % 2 == 0:\n",
    "        print(i, \"é par!\")\n",
    "    \n",
    "    else:\n",
    "        print(i, \"é impar!\")"
   ]
  },
  {
   "cell_type": "code",
   "execution_count": 378,
   "metadata": {},
   "outputs": [
    {
     "name": "stdout",
     "output_type": "stream",
     "text": [
      "2 é par!\n",
      "4 é par!\n",
      "6 é par!\n",
      "8 é par!\n",
      "10 é par!\n",
      "12 é par!\n",
      "14 é par!\n",
      "16 é par!\n",
      "18 é par!\n",
      "20 é par!\n",
      "22 é par!\n",
      "24 é par!\n",
      "26 é par!\n",
      "28 é par!\n",
      "30 é par!\n",
      "32 é par!\n",
      "34 é par!\n",
      "36 é par!\n",
      "38 é par!\n",
      "40 é par!\n",
      "42 é par!\n",
      "44 é par!\n",
      "46 é par!\n",
      "48 é par!\n",
      "50 é par!\n",
      "52 é par!\n",
      "54 é par!\n",
      "56 é par!\n",
      "58 é par!\n",
      "60 é par!\n",
      "62 é par!\n",
      "64 é par!\n",
      "66 é par!\n",
      "68 é par!\n",
      "70 é par!\n",
      "72 é par!\n",
      "74 é par!\n",
      "76 é par!\n",
      "78 é par!\n",
      "80 é par!\n",
      "82 é par!\n",
      "84 é par!\n",
      "86 é par!\n",
      "88 é par!\n",
      "90 é par!\n",
      "92 é par!\n",
      "94 é par!\n",
      "96 é par!\n",
      "98 é par!\n",
      "100 é par!\n"
     ]
    }
   ],
   "source": [
    "# Números de 1 a 100, verificando pares e ímpares?\n",
    "\n",
    "for i in range(1,101):\n",
    "    if i % 2 == 0:\n",
    "        print(i, \"é par!\")"
   ]
  },
  {
   "cell_type": "code",
   "execution_count": 383,
   "metadata": {},
   "outputs": [
    {
     "name": "stdout",
     "output_type": "stream",
     "text": [
      "T\n",
      "e\n",
      "o\n",
      "d\n",
      "o\n",
      "r\n",
      "o\n",
      " \n",
      "C\n",
      "a\n",
      "l\n",
      "v\n",
      "o\n"
     ]
    }
   ],
   "source": [
    "nome = \"Teodoro Calvo\"\n",
    "for l in nome:\n",
    "    print(l)"
   ]
  },
  {
   "cell_type": "code",
   "execution_count": 13,
   "metadata": {},
   "outputs": [],
   "source": [
    "# for i in [1,2,3]"
   ]
  },
  {
   "cell_type": "code",
   "execution_count": 382,
   "metadata": {},
   "outputs": [
    {
     "name": "stdout",
     "output_type": "stream",
     "text": [
      "1 é impar!\n",
      "2 é par!\n",
      "3 é impar!\n",
      "4 é par!\n"
     ]
    }
   ],
   "source": [
    "x = [1,2,3,4]\n",
    "i = 0 # index 0\n",
    "\n",
    "while i < len(x):\n",
    "    if x[i] % 2 == 0:\n",
    "        print(x[i], \"é par!\")\n",
    "    \n",
    "    else:\n",
    "        print(x[i], \"é impar!\")\n",
    "        \n",
    "    i += 1"
   ]
  },
  {
   "cell_type": "code",
   "execution_count": 396,
   "metadata": {},
   "outputs": [
    {
     "name": "stdout",
     "output_type": "stream",
     "text": [
      "Você tem 3 tentativas!\n",
      "Entre com seu número: 6\n",
      "Você é um perdedor! Tente um número maior!\n",
      "Você tem 2 tentativas!\n",
      "Entre com seu número: 7\n",
      "Você é um ganhador!!\n"
     ]
    }
   ],
   "source": [
    "# loteria da babilonia com loop\n",
    "\n",
    "numero_sorte = 7 # Este é o número da sorte da loteria, qm acertar ganha o prêmio!!\n",
    "tentativa = 3\n",
    "\n",
    "while tentativa > 0:\n",
    "    \n",
    "    print(\"Você tem\", tentativa, \"tentativas!\")\n",
    "    numero_jogador = int(input(\"Entre com seu número: \")) # É o número que o usuário vai chutar\n",
    "    \n",
    "    if numero_jogador == numero_sorte:\n",
    "        print(\"Você é um ganhador!!\")\n",
    "        break # Sai do loop forçadamente!!!\n",
    "\n",
    "    elif numero_jogador > numero_sorte:\n",
    "        print(\"Você é um perdedor! Tente um número menor!\")\n",
    "\n",
    "    else:\n",
    "        print(\"Você é um perdedor! Tente um número maior!\")\n",
    "        \n",
    "    tentativa -= 1 # Remove uma tentativa do player\n",
    "    \n",
    "else: # isso só acontece quando acabarem as tentativas\n",
    "    print(\"Acabaram suas tentativas!!\")"
   ]
  },
  {
   "cell_type": "markdown",
   "metadata": {},
   "source": [
    "## Importação de bibliotecas\n",
    "\n",
    "É comum fazer uso de código opensource que não vem \"empacotado\" junto com o python, assim, você pode querer usar pacotes de terceiros como também criar seus próprios módulos e bibliotecas. Para fazer reuso de códigos é necessário importa-los."
   ]
  },
  {
   "cell_type": "code",
   "execution_count": 14,
   "metadata": {},
   "outputs": [],
   "source": [
    "# import time\n",
    "# import random"
   ]
  },
  {
   "cell_type": "code",
   "execution_count": 399,
   "metadata": {},
   "outputs": [],
   "source": [
    "import math # Isso importa a biblioteca INTEIRA!!"
   ]
  },
  {
   "cell_type": "code",
   "execution_count": 398,
   "metadata": {},
   "outputs": [
    {
     "data": {
      "text/plain": [
       "6"
      ]
     },
     "execution_count": 398,
     "metadata": {},
     "output_type": "execute_result"
    }
   ],
   "source": [
    "math.factorial(3)"
   ]
  },
  {
   "cell_type": "code",
   "execution_count": 400,
   "metadata": {},
   "outputs": [],
   "source": [
    "from math import factorial # Isso importa apenas um módulo ou função"
   ]
  },
  {
   "cell_type": "code",
   "execution_count": 401,
   "metadata": {},
   "outputs": [
    {
     "data": {
      "text/plain": [
       "6"
      ]
     },
     "execution_count": 401,
     "metadata": {},
     "output_type": "execute_result"
    }
   ],
   "source": [
    "factorial(3)"
   ]
  },
  {
   "cell_type": "code",
   "execution_count": 402,
   "metadata": {},
   "outputs": [],
   "source": [
    "from math import * # importa tudo da biblioteca, sem precisa do prefix. NÃO É RECOMENDADO"
   ]
  },
  {
   "cell_type": "code",
   "execution_count": 406,
   "metadata": {},
   "outputs": [
    {
     "data": {
      "text/plain": [
       "True"
      ]
     },
     "execution_count": 406,
     "metadata": {},
     "output_type": "execute_result"
    }
   ],
   "source": [
    "math.pi == pi"
   ]
  },
  {
   "cell_type": "code",
   "execution_count": 408,
   "metadata": {},
   "outputs": [],
   "source": [
    "import time"
   ]
  },
  {
   "cell_type": "code",
   "execution_count": 409,
   "metadata": {},
   "outputs": [
    {
     "name": "stdout",
     "output_type": "stream",
     "text": [
      "1\n",
      "2\n",
      "3\n",
      "4\n",
      "5\n",
      "6\n",
      "7\n",
      "8\n",
      "9\n"
     ]
    }
   ],
   "source": [
    "for i in range(1,10):\n",
    "    print(i)\n",
    "    time.sleep(2)"
   ]
  },
  {
   "cell_type": "code",
   "execution_count": 410,
   "metadata": {},
   "outputs": [],
   "source": [
    "import random"
   ]
  },
  {
   "cell_type": "code",
   "execution_count": 432,
   "metadata": {},
   "outputs": [
    {
     "data": {
      "text/plain": [
       "12"
      ]
     },
     "execution_count": 432,
     "metadata": {},
     "output_type": "execute_result"
    }
   ],
   "source": [
    "random.randint(1,15)"
   ]
  },
  {
   "cell_type": "code",
   "execution_count": 433,
   "metadata": {},
   "outputs": [
    {
     "name": "stdout",
     "output_type": "stream",
     "text": [
      "Você tem 3 tentativas!\n",
      "Entre com seu número: 7\n",
      "Você é um perdedor! Tente um número maior!\n",
      "Você tem 2 tentativas!\n",
      "Entre com seu número: 10\n",
      "Você é um ganhador!!\n"
     ]
    }
   ],
   "source": [
    "# loteria da babilonia com loop\n",
    "\n",
    "import random # biblioteca que gera valores aleatórios - pseudoaleatórios\n",
    "\n",
    "numero_sorte = random.randint(1,15) # valor aleatório entre 1 e 15\n",
    "tentativa = 3\n",
    "\n",
    "while tentativa > 0:\n",
    "    \n",
    "    print(\"Você tem\", tentativa, \"tentativas!\")\n",
    "    numero_jogador = int(input(\"Entre com seu número: \")) # É o número que o usuário vai chutar\n",
    "    \n",
    "    if numero_jogador == numero_sorte:\n",
    "        print(\"Você é um ganhador!!\")\n",
    "        break # Sai do loop forçadamente!!!\n",
    "\n",
    "    elif numero_jogador > numero_sorte:\n",
    "        print(\"Você é um perdedor! Tente um número menor!\")\n",
    "\n",
    "    else:\n",
    "        print(\"Você é um perdedor! Tente um número maior!\")\n",
    "        \n",
    "    tentativa -= 1 # Remove uma tentativa do player\n",
    "    \n",
    "else: # isso só acontece quando acabarem as tentativas\n",
    "    print(\"Acabaram suas tentativas!!\")"
   ]
  }
 ],
 "metadata": {
  "file_extension": ".py",
  "kernelspec": {
   "display_name": "Python 3",
   "language": "python",
   "name": "python3"
  },
  "language_info": {
   "codemirror_mode": {
    "name": "ipython",
    "version": 3
   },
   "file_extension": ".py",
   "mimetype": "text/x-python",
   "name": "python",
   "nbconvert_exporter": "python",
   "pygments_lexer": "ipython3",
   "version": "3.8.3"
  },
  "mimetype": "text/x-python",
  "name": "python",
  "npconvert_exporter": "python",
  "pygments_lexer": "ipython3",
  "version": 3
 },
 "nbformat": 4,
 "nbformat_minor": 2
}
