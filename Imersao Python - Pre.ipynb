{
 "cells": [
  {
   "cell_type": "markdown",
   "metadata": {},
   "source": [
    "# Imersao Python\n",
    "\n",
    "## Uma breve introdução ao Python.\n",
    "\n",
    "Vamos conhecer todas as estruturas básicas da linguagem. Tudo o que é necessário para escrever programas minimamente úteis.\n",
    "\n",
    "## Tipos de dados\n",
    "\n",
    "Vamos dar \"olá\" para o mundo..."
   ]
  },
  {
   "cell_type": "code",
   "execution_count": 1,
   "metadata": {},
   "outputs": [
    {
     "name": "stdout",
     "output_type": "stream",
     "text": [
      "Olá mundo!!\n"
     ]
    }
   ],
   "source": [
    "print(\"Olá mundo!!\")"
   ]
  },
  {
   "cell_type": "markdown",
   "metadata": {},
   "source": [
    "### Como pedir informação para o usuário??"
   ]
  },
  {
   "cell_type": "code",
   "execution_count": 2,
   "metadata": {},
   "outputs": [
    {
     "name": "stdout",
     "output_type": "stream",
     "text": [
      "Qual o seu nome? teo\n"
     ]
    }
   ],
   "source": [
    "nome = input(\"Qual o seu nome? \")"
   ]
  },
  {
   "cell_type": "code",
   "execution_count": 3,
   "metadata": {},
   "outputs": [
    {
     "data": {
      "text/plain": [
       "str"
      ]
     },
     "execution_count": 3,
     "metadata": {},
     "output_type": "execute_result"
    }
   ],
   "source": [
    "type(nome)"
   ]
  },
  {
   "cell_type": "markdown",
   "metadata": {},
   "source": [
    "### Toda informação que é requisitada pelo usuário é do tipo STRING\n",
    "\n",
    "Ou seja, mesmo que o usuário coloque um número, o mesmo é tratado como texto. Assim que desejemos obter a idade do indivíduo, precisamos converter para INTEIRO."
   ]
  },
  {
   "cell_type": "code",
   "execution_count": 4,
   "metadata": {},
   "outputs": [
    {
     "name": "stdout",
     "output_type": "stream",
     "text": [
      "Qual sua idade? 27\n"
     ]
    }
   ],
   "source": [
    "idade = input(\"Qual sua idade? \")\n",
    "idade = int(idade)"
   ]
  },
  {
   "cell_type": "code",
   "execution_count": 5,
   "metadata": {},
   "outputs": [
    {
     "data": {
      "text/plain": [
       "int"
      ]
     },
     "execution_count": 5,
     "metadata": {},
     "output_type": "execute_result"
    }
   ],
   "source": [
    "type(idade)"
   ]
  },
  {
   "cell_type": "markdown",
   "metadata": {},
   "source": [
    "## Abrindo o capô das Strings\n",
    "\n",
    "Strings são um conjunto de caracteres, sendo possível navegar por elas, fatiar, remover caracteres, etc...\n",
    "\n",
    "Strings possuem métodos e atributos, mas o que e isso? Uma pessoa, possui características e ações possíveis de serem executadas.\n",
    "\n",
    "Exemplo de atributos (características):\n",
    "\n",
    "- cor do cabelo\n",
    "- cor dos olhos\n",
    "- idade\n",
    "- sexo\n",
    "\n",
    "Exemplo de métodos (ações):\n",
    "\n",
    "- Viajar\n",
    "- Estudar\n",
    "- Pintar o cabelo\n",
    "\n",
    "Vamos conferrir isso nas strings?"
   ]
  },
  {
   "cell_type": "code",
   "execution_count": 6,
   "metadata": {},
   "outputs": [],
   "source": [
    "# Posições de caracteres\n",
    "\n",
    "# Fatiamento\n",
    "\n",
    "# Caixa alta\n",
    "\n",
    "# Caixa Baixa\n",
    "\n",
    "# Concatenação\n",
    "\n",
    "# Alteração\n",
    "\n",
    "# Começa com, termina com"
   ]
  },
  {
   "cell_type": "markdown",
   "metadata": {},
   "source": [
    "## Vamos para os números?\n",
    "\n",
    "Python pode servir de calculadora, por exemplo somar, dividir, exponenciar, módulo, etc...\n",
    "\n",
    "Lembrando que temos dois tipos básicos de numéricos: int e float.\n",
    "\n",
    "Adicionando ainda, os booleanos: True e False"
   ]
  },
  {
   "cell_type": "code",
   "execution_count": 7,
   "metadata": {},
   "outputs": [],
   "source": [
    "# 1 + 1\n",
    "\n",
    "# 1 - 1\n",
    "\n",
    "# 1 / 1\n",
    "\n",
    "# 1 * 1\n",
    "\n",
    "# 1 % 1\n",
    "\n",
    "# 1 ** 1\n",
    "\n",
    "# True + True"
   ]
  },
  {
   "cell_type": "markdown",
   "metadata": {},
   "source": [
    "## Tipos iteráveis\n",
    "\n",
    "Tipos iteráveis são tipos de dados que podemos de alguma forma iterar por eles. Mas o que diabos é iterar? Iterar é a possibilidade de criar iterações (loops) a partir de uma determinada condição lógica ou objeto a ser percorrido (iterado).\n",
    "\n",
    "Exemplo de iteráveis:\n",
    "\n",
    "- listas\n",
    "- tuplas\n",
    "- dicionários\n",
    "- range\n",
    "\n",
    "ps. Strings são iteráveis também.\n",
    "\n",
    "Vamos começar com listas...\n",
    "\n",
    "## Listas\n",
    "\n",
    "Listas são objetos que carregam (apontam) para um conjunto finito de quaiquer outros tipos de objetos. Pense me listas como vagões de trem que carregam uma determinada carga, onde cada um desses vagões pode conter tipos de carga totalmente diferentes. Ou seja, em um vagão pode haver minério, no outro madeira, e no outro conter pessoas."
   ]
  },
  {
   "cell_type": "code",
   "execution_count": 8,
   "metadata": {},
   "outputs": [],
   "source": [
    "# Exemplo de listas\n",
    "\n",
    "# Posição de um elemento\n",
    "\n",
    "# Concatenação de listas\n",
    "\n",
    "# Métodos de listas\n",
    "\n",
    "# Fatiamento"
   ]
  },
  {
   "cell_type": "markdown",
   "metadata": {},
   "source": [
    "## Tuplas\n",
    "\n",
    "### Maneira feia de definir tuplas:\n",
    "\n",
    "Tuplas são listas imutáveis. Mas o que e isso?"
   ]
  },
  {
   "cell_type": "code",
   "execution_count": 9,
   "metadata": {},
   "outputs": [],
   "source": [
    "# Exemplo de tuplas\n",
    "\n",
    "# Posição de um elemento\n",
    "\n",
    "# Concatenação de tuplas\n",
    "\n",
    "# Métodos de tuplas\n",
    "\n",
    "# Fatiamento"
   ]
  },
  {
   "cell_type": "markdown",
   "metadata": {},
   "source": [
    "## Dicionários\n",
    "\n",
    "Dicionários não estruturas de dados referentes à pares de chave/valor. Isso significa que vc atrela um valor a determinada chave, ao invés de uma posição, como no caso das listas e tuplas. Ressalto que o 'valor' pode ser qualquer tipo de objeto."
   ]
  },
  {
   "cell_type": "code",
   "execution_count": 10,
   "metadata": {},
   "outputs": [],
   "source": [
    "# Exemplo de dicionário\n",
    "\n",
    "# Valor de uma chave\n",
    "\n",
    "# Mostrar todas as chaves\n",
    "\n",
    "# Mostrar todos os valores"
   ]
  },
  {
   "cell_type": "markdown",
   "metadata": {},
   "source": [
    "## Funções\n",
    "\n",
    "Funções são nossas amigas para reaproveitar código. Assim, caso tenha algum tipo de execução que seja parecido, não é necessário escrever o mesmo código toda vez."
   ]
  },
  {
   "cell_type": "code",
   "execution_count": 11,
   "metadata": {},
   "outputs": [],
   "source": [
    "# f(x) = x**2 + 2 * x + 10"
   ]
  },
  {
   "cell_type": "markdown",
   "metadata": {},
   "source": [
    "## Controle de Fluxo\n",
    "\n",
    "No python é possível alterar a sequencia de leitura das linhas, fazendo uso de 'funções' especiais para tal. Exemplo de operadores que alteram o fluxo de um programa:\n",
    "\n",
    "- if\n",
    "\n",
    "- elif\n",
    "\n",
    "- else\n",
    "\n",
    "- for\n",
    "\n",
    "- while\n",
    "\n",
    "- try\n",
    "\n",
    "Lembre-se que é obrigatório o uso de identação, 4 espaços são o padrão.\n",
    "\n",
    "### if, elif e else\n",
    "\n",
    "Tabelinha verdade, vocês viram em algebra elementar, certo?\n",
    "\n",
    "Então, verdade verdade => verdade ?\n",
    "\n",
    "Mesma coisa por aqui:\n",
    "\n",
    "if verdade => verdade e executamos\n",
    "\n",
    "else => executamos aqui"
   ]
  },
  {
   "cell_type": "code",
   "execution_count": 12,
   "metadata": {},
   "outputs": [],
   "source": [
    "# if\n",
    "\n",
    "# elif\n",
    "\n",
    "# else"
   ]
  },
  {
   "cell_type": "markdown",
   "metadata": {},
   "source": [
    "### Laços de repetição\n",
    "\n",
    "For percorre um iterável (iterador), ou seja, enquanto o iterador tiver valores para ser iterado, o laço for continua:"
   ]
  },
  {
   "cell_type": "code",
   "execution_count": 13,
   "metadata": {},
   "outputs": [],
   "source": [
    "# for i in [1,2,3]"
   ]
  },
  {
   "cell_type": "markdown",
   "metadata": {},
   "source": [
    "## Importação de bibliotecas\n",
    "\n",
    "É comum fazer uso de código opensource que não vem \"empacotado\" junto com o python, assim, você pode querer usar pacotes de terceiros como também criar seus próprios módulos e bibliotecas. Para fazer reuso de códigos é necessário importa-los."
   ]
  },
  {
   "cell_type": "code",
   "execution_count": 14,
   "metadata": {},
   "outputs": [],
   "source": [
    "# import time\n",
    "# import random"
   ]
  }
 ],
 "metadata": {
  "file_extension": ".py",
  "kernelspec": {
   "display_name": "Python 3",
   "language": "python",
   "name": "python3"
  },
  "language_info": {
   "codemirror_mode": {
    "name": "ipython",
    "version": 3
   },
   "file_extension": ".py",
   "mimetype": "text/x-python",
   "name": "python",
   "nbconvert_exporter": "python",
   "pygments_lexer": "ipython3",
   "version": "3.8.3"
  },
  "mimetype": "text/x-python",
  "name": "python",
  "npconvert_exporter": "python",
  "pygments_lexer": "ipython3",
  "version": 3
 },
 "nbformat": 4,
 "nbformat_minor": 2
}
